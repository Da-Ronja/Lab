{
 "cells": [
  {
   "cell_type": "markdown",
   "metadata": {},
   "source": [
    "# Predicting T-shirt size using the ANSUR II dataset\n",
    "We will here try to predict a persons t-shirt size given the weight and height of the person. We will use the ANSUR II dataset which contains a lot of information about the physical attributes of a large number of people. \n",
    "\n",
    "We will first try to map the persons in the dataset to a t-shirt size. It is hard to find a concise size chart for t-shirt so we will create our own, initial chart, based on these assumptions:\n",
    "\n",
    "We will only look at two measurements, Shoulder Width and Chest Circumference.\n",
    "\n",
    "Our first problem is that Shoulder Width is not one of the measurements taken in the dataset. But we have Biacromial Breadth which is the distance between the two acromion processes. We will assume that this is the same as Shoulder Width.\n",
    "\n",
    "We will then have these initial rules:\n",
    "\n",
    "| Size | Percentile |\n",
    "|------|------------|\n",
    "| XS   | 0-5        |\n",
    "| S    | 5-25       |\n",
    "| M    | 25-50      |\n",
    "| L    | 50-75      |\n",
    "| XL   | 75-90      |\n",
    "| XXL  | 90-97      |\n",
    "| XXXL | 97-100     |"
   ]
  },
  {
   "cell_type": "markdown",
   "metadata": {},
   "source": [
    "## Inspect the data"
   ]
  },
  {
   "cell_type": "code",
   "execution_count": 13,
   "metadata": {},
   "outputs": [],
   "source": [
    "import pandas as pd"
   ]
  },
  {
   "cell_type": "code",
   "execution_count": 14,
   "metadata": {},
   "outputs": [],
   "source": [
    "female = pd.read_csv('../data/female.csv')\n",
    "male = pd.read_csv('../data/male.csv')"
   ]
  },
  {
   "cell_type": "code",
   "execution_count": 15,
   "metadata": {},
   "outputs": [
    {
     "name": "stdout",
     "output_type": "stream",
     "text": [
      "For women we have (rows, columns) (1986, 108)\n",
      "For men we have (rows, columns) (4082, 108)\n"
     ]
    }
   ],
   "source": [
    "print(f'For women we have (rows, columns) {female.shape}')\n",
    "print(f'For men we have (rows, columns) {male.shape}')\n"
   ]
  },
  {
   "cell_type": "markdown",
   "metadata": {},
   "source": [
    "## Checking the percentiles\n",
    "\n",
    "Let us determine the percentiles of the data."
   ]
  },
  {
   "cell_type": "code",
   "execution_count": 16,
   "metadata": {},
   "outputs": [
    {
     "name": "stdout",
     "output_type": "stream",
     "text": [
      "{(0, 5): 100, (5, 25): 396, (25, 50): 492, (50, 75): 499, (75, 90): 299, (90, 97): 140, (97, 100): 59}\n",
      "{(0, 5): 93, (5, 25): 377, (25, 50): 477, (50, 75): 541, (75, 90): 297, (90, 97): 139, (97, 100): 61}\n",
      "\n",
      "{(0, 5): 199, (5, 25): 810, (25, 50): 1025, (50, 75): 1012, (75, 90): 616, (90, 97): 295, (97, 100): 124}\n",
      "{(0, 5): 191, (5, 25): 787, (25, 50): 989, (50, 75): 1079, (75, 90): 610, (90, 97): 303, (97, 100): 122}\n"
     ]
    }
   ],
   "source": [
    "def compute_percentile_ranges(column):\n",
    "    # Define percentile ranges\n",
    "    ranges = [(0, 5), (5, 25), (25, 50), (50, 75), (75, 90), (90, 97), (97, 100)]\n",
    "\n",
    "    percentiles = {(low, high): (column.quantile(low/100), column.quantile(high/100)) for low, high in ranges}\n",
    "\n",
    "    counts = {}\n",
    "\n",
    "    for r, (low, high) in percentiles.items():\n",
    "        counts[r] = int(((column >= low) & (column < high)).sum())\n",
    "    \n",
    "    return counts\n",
    "\n",
    "print(compute_percentile_ranges(female['chestcircumference']))\n",
    "print(compute_percentile_ranges(female['biacromialbreadth']))\n",
    "print()\n",
    "print(compute_percentile_ranges(male['chestcircumference']))\n",
    "print(compute_percentile_ranges(male['biacromialbreadth']))"
   ]
  },
  {
   "cell_type": "markdown",
   "metadata": {},
   "source": [
    "## Generate the t-shirt size chart"
   ]
  },
  {
   "cell_type": "code",
   "execution_count": 17,
   "metadata": {},
   "outputs": [
    {
     "name": "stdout",
     "output_type": "stream",
     "text": [
      "{'XS': {'Chest': 695, 'Shoulder': 283}, 'S': {'Chest': 824, 'Shoulder': 335}, 'M': {'Chest': 889, 'Shoulder': 353}, 'L': {'Chest': 940, 'Shoulder': 365}, 'XL': {'Chest': 999, 'Shoulder': 378}, '2XL': {'Chest': 1057, 'Shoulder': 389}, '3XL': {'Chest': 1117, 'Shoulder': 400}}\n",
      "{'XS': {'Chest': 774, 'Shoulder': 337}, 'S': {'Chest': 922, 'Shoulder': 384}, 'M': {'Chest': 996, 'Shoulder': 403}, 'L': {'Chest': 1056, 'Shoulder': 415}, 'XL': {'Chest': 1117, 'Shoulder': 428}, '2XL': {'Chest': 1172, 'Shoulder': 441}, '3XL': {'Chest': 1233, 'Shoulder': 452}}\n"
     ]
    }
   ],
   "source": [
    "def compute_size_percentile_mesurments(data, chest_column, shoulder_column):\n",
    "    sizes = ['XS', 'S', 'M', 'L', 'XL', '2XL', '3XL']\n",
    "    ranges = [0, 5, 25, 50, 75, 90, 97]\n",
    "\n",
    "    # Compute the values for each percentile for chest and shoulder\n",
    "    chest_percentiles = {p: data[chest_column].quantile(p/100) for p in ranges} # p is a percentile in ranges, and the value is the threshold below which p% of the data falls\n",
    "    shoulder_percentiles = {p: data[shoulder_column].quantile(p/100) for p in ranges}\n",
    "\n",
    "    # Map the t-shirt sizes to the corresponding chest and shoulder measurments\n",
    "    size_mappings = {}\n",
    "    for i, size in enumerate(sizes): # i for value in ranges, size for key in sizes\n",
    "        # Create a dictionary where the key is 'size' and with the chest and shoulder measurments for each size \n",
    "        size_mappings[size] = {\n",
    "            'Chest': int(chest_percentiles[ranges[i]]),\n",
    "            'Shoulder': int(shoulder_percentiles[ranges[i]])\n",
    "        }\n",
    "    \n",
    "    return size_mappings\n",
    "    \n",
    "\n",
    "\n",
    "print(compute_size_percentile_mesurments(female, 'chestcircumference', 'biacromialbreadth'))\n",
    "print(compute_size_percentile_mesurments(male, 'chestcircumference', 'biacromialbreadth'))\n"
   ]
  },
  {
   "cell_type": "code",
   "execution_count": 18,
   "metadata": {},
   "outputs": [],
   "source": [
    "# {'XS': {'Chest': 695, 'Shoulder': 283}, 'S': {'Chest': 824, 'Shoulder': 335}, 'M': {'Chest': 889, 'Shoulder': 353}, 'L': {'Chest': 940, 'Shoulder': 365}, 'XL': {'Chest': 999, 'Shoulder': 378}, '2XL': {'Chest': 1057, 'Shoulder': 389}, '3XL': {'Chest': 1117, 'Shoulder': 400}}\n",
    "\n",
    "female_sizes = {\n",
    "    'XS': {'Chest': 695, 'Shoulder': 283}, \n",
    "    'S': {'Chest': 824, 'Shoulder': 335}, \n",
    "    'M': {'Chest': 889, 'Shoulder': 353}, \n",
    "    'L': {'Chest': 940, 'Shoulder': 365}, \n",
    "    'XL': {'Chest': 999, 'Shoulder': 378}, \n",
    "    '2XL': {'Chest': 1057, 'Shoulder': 389}, \n",
    "    '3XL': {'Chest': 1117, 'Shoulder': 400}\n",
    "    }\n",
    "\n",
    "male_sizes = {\n",
    "    'XS': {'Chest': 774, 'Shoulder': 337}, \n",
    "    'S': {'Chest': 922, 'Shoulder': 384}, \n",
    "    'M': {'Chest': 996, 'Shoulder': 403}, \n",
    "    'L': {'Chest': 1056, 'Shoulder': 415}, \n",
    "    'XL': {'Chest': 1117, 'Shoulder': 428}, \n",
    "    '2XL': {'Chest': 1172, 'Shoulder': 441}, \n",
    "    '3XL': {'Chest': 1233, 'Shoulder': 452}\n",
    "    }"
   ]
  },
  {
   "cell_type": "markdown",
   "metadata": {},
   "source": []
  },
  {
   "cell_type": "code",
   "execution_count": 19,
   "metadata": {},
   "outputs": [
    {
     "name": "stdout",
     "output_type": "stream",
     "text": [
      "Female matches: \n",
      " {'XS': 0, 'S': 35, 'M': 115, 'L': 142, 'XL': 77, '2XL': 34, '3XL': 10} \n",
      "Ties:  390\n",
      "\n",
      "Male matches: \n",
      " {'XS': 1, 'S': 70, 'M': 228, 'L': 286, 'XL': 164, '2XL': 69, '3XL': 38} \n",
      "Ties:  625\n"
     ]
    }
   ],
   "source": [
    "def get_size(data, size_chart):\n",
    "    matches = {size: 0 for size in size_chart.keys()}   \n",
    "    ties = 0\n",
    "\n",
    "    for _, row in data.iterrows():\n",
    "        possible_sizes = []\n",
    "\n",
    "        for size, measurments in size_chart.items():\n",
    "            if row['chestcircumference'] <= measurments['Chest'] and row['biacromialbreadth'] >= measurments['Shoulder']:\n",
    "                possible_sizes.append(size)\n",
    "\n",
    "        if len(possible_sizes) == 1:\n",
    "            matches[possible_sizes[0]] += 1\n",
    "        elif len(possible_sizes) > 1:\n",
    "            ties += 1\n",
    "\n",
    "    return matches, ties\n",
    "\n",
    "female_matches, female_ties = get_size(female, female_sizes)\n",
    "male_matches, male_ties = get_size(male, male_sizes)\n",
    "\n",
    "print(f'Female matches: \\n {female_matches} \\nTies:  {female_ties}\\n')\n",
    "print(f'Male matches: \\n {male_matches} \\nTies:  {male_ties}')"
   ]
  },
  {
   "cell_type": "markdown",
   "metadata": {},
   "source": [
    "This is not good. Let us have overlapping measurments."
   ]
  },
  {
   "cell_type": "code",
   "execution_count": 20,
   "metadata": {},
   "outputs": [
    {
     "name": "stdout",
     "output_type": "stream",
     "text": [
      "XS: {'Chest': [695, 829], 'Shoulder': [283, 340]}\n",
      "S: {'Chest': [819, 894], 'Shoulder': [330, 358]}\n",
      "M: {'Chest': [884, 945], 'Shoulder': [348, 370]}\n",
      "L: {'Chest': [935, 1004], 'Shoulder': [360, 383]}\n",
      "XL: {'Chest': [994, 1062], 'Shoulder': [373, 394]}\n",
      "2XL: {'Chest': [1052, 1122], 'Shoulder': [384, 405]}\n",
      "3XL: {'Chest': [1112, 2117], 'Shoulder': [395, 1400]}\n",
      "\n",
      "XS: {'Chest': [774, 927], 'Shoulder': [337, 389]}\n",
      "S: {'Chest': [917, 1001], 'Shoulder': [379, 408]}\n",
      "M: {'Chest': [991, 1061], 'Shoulder': [398, 420]}\n",
      "L: {'Chest': [1051, 1122], 'Shoulder': [410, 433]}\n",
      "XL: {'Chest': [1112, 1177], 'Shoulder': [423, 446]}\n",
      "2XL: {'Chest': [1167, 1238], 'Shoulder': [436, 457]}\n",
      "3XL: {'Chest': [1228, 2233], 'Shoulder': [447, 1452]}\n"
     ]
    }
   ],
   "source": [
    "def create_overlapping_size_chart(original_chart):\n",
    "    overlapping_chart = {} # Create an empty dictionary to store the overlapping sizes\n",
    "\n",
    "    sizes = list(original_chart.keys()) # Get the sizes from the original size chart\n",
    "\n",
    "    for i, size in enumerate(sizes):\n",
    "        overlapping_chart[size] = {} \n",
    "        if i == 0: \n",
    "           # first size\n",
    "            overlapping_chart[size]['Chest'] = [original_chart[size]['Chest'], original_chart[sizes[i+1]]['Chest']+5]\n",
    "            overlapping_chart[size]['Shoulder'] = [original_chart[size]['Shoulder'], original_chart[sizes[i+1]]['Shoulder']+5]\n",
    "\n",
    "        # last size\n",
    "        elif i == len(sizes)-1:\n",
    "            overlapping_chart[size]['Chest'] = [original_chart[size]['Chest']-5, original_chart[size]['Chest']+1000]\n",
    "            overlapping_chart[size]['Shoulder'] = [original_chart[size]['Shoulder']-5, original_chart[size]['Shoulder']+1000]\n",
    "        \n",
    "        # all other sizes\n",
    "        else:\n",
    "            overlapping_chart[size]['Chest'] = [original_chart[size]['Chest']-5, original_chart[sizes[i+1]]['Chest']+5]\n",
    "            overlapping_chart[size]['Shoulder'] = [original_chart[size]['Shoulder']-5, original_chart[sizes[i+1]]['Shoulder']+5]\n",
    "\n",
    "    return overlapping_chart\n",
    "\n",
    "new_female_sizes = create_overlapping_size_chart(female_sizes)\n",
    "new_male_sizes = create_overlapping_size_chart(male_sizes)\n",
    "\n",
    "for k,v in new_female_sizes.items():\n",
    "    print(f'{k}: {v}')\n",
    "\n",
    "print()\n",
    "\n",
    "for k,v in new_male_sizes.items():\n",
    "    print(f'{k}: {v}')"
   ]
  },
  {
   "cell_type": "code",
   "execution_count": 21,
   "metadata": {},
   "outputs": [],
   "source": [
    "female_sizes = {\n",
    "    'XS': {'Chest': [695, 829], 'Shoulder': [283, 340]},\n",
    "    'S': {'Chest': [819, 894], 'Shoulder': [330, 358]},\n",
    "    'M': {'Chest': [884, 945], 'Shoulder': [348, 370]},\n",
    "    'L': {'Chest': [935, 1004], 'Shoulder': [360, 383]},\n",
    "    'XL': {'Chest': [994, 1062], 'Shoulder': [373, 394]},\n",
    "    '2XL': {'Chest': [1052, 1122], 'Shoulder': [384, 405]},\n",
    "    '3XL': {'Chest': [1112, 2117], 'Shoulder': [395, 1400]},\n",
    "}\n",
    "\n",
    "male_sizes = {\n",
    "    'XS': {'Chest': [774, 927], 'Shoulder': [337, 389]},\n",
    "    'S': {'Chest': [917, 1001], 'Shoulder': [379, 408]},\n",
    "    'M': {'Chest': [991, 1061], 'Shoulder': [398, 420]},\n",
    "    'L': {'Chest': [1051, 1122], 'Shoulder': [410, 433]},\n",
    "    'XL': {'Chest': [1112, 1177], 'Shoulder': [423, 446]},\n",
    "    '2XL': {'Chest': [1167, 1238], 'Shoulder': [436, 457]},\n",
    "    '3XL': {'Chest': [1228, 2233], 'Shoulder': [447, 1452]},\n",
    "}"
   ]
  },
  {
   "cell_type": "markdown",
   "metadata": {},
   "source": [
    "# Todays Lab\n",
    " \n",
    "Last time, we created a function get_size to get a clearer view of how many matches and ties we had. Now, I want you to do the same thing for the new size charts we created, but this time taking into consideration that we have two measurements instead of one. The goal remains the same: find out how many matches and how many ties we have.\n",
    " \n",
    "### Task\n",
    "Analyze the data: Use the new size charts to determine the number of matches and ties based on two measurements.\n",
    "Count matches and ties: Write a function that iterates through each person's measurements, compares them with the new size charts, and counts the number of matches and ties.\n",
    "### Bonus\n",
    "Modify the function to handle ties. If there is a tie and the sizes are adjacent, choose the larger size to increase the number of matches."
   ]
  },
  {
   "cell_type": "code",
   "execution_count": 22,
   "metadata": {},
   "outputs": [
    {
     "name": "stdout",
     "output_type": "stream",
     "text": [
      "Matches: {'XS': 20, 'S': 178, 'M': 228, 'L': 262, 'XL': 111, '2XL': 35, '3XL': 13}\n",
      "Ties: 56\n",
      "Else: 1139\n",
      "Total: 0\n",
      "Matches: {'XS': 60, 'S': 407, 'M': 540, 'L': 569, 'XL': 323, '2XL': 98, '3XL': 50}\n",
      "Ties: 144\n",
      "Else: 2035\n",
      "Total: 0\n"
     ]
    }
   ],
   "source": [
    "# Task\n",
    "# Analyze the data: Use the new size charts to determine the number of matches and ties based on two measurements.\n",
    "# Count matches and ties: Write a function that iterates through each person's measurements, compares them with the new size charts, and counts the number of matches and ties.\n",
    "\n",
    "def count_matches_and_ties(data, size_chart):\n",
    "    matches = {size: 0 for size in size_chart.keys()}\n",
    "    ties = 0\n",
    "    total = 0\n",
    "    else_count = 0\n",
    "\n",
    "    for _, row in data.iterrows():\n",
    "        posible_sizes = []\n",
    "\n",
    "        for size, measurements in size_chart.items():\n",
    "            if row['chestcircumference'] >= measurements['Chest'][0] and row['chestcircumference'] < measurements['Chest'][1] and row['biacromialbreadth'] >= measurements['Shoulder'][0] and row['biacromialbreadth'] < measurements['Shoulder'][1]:\n",
    "                posible_sizes.append(size)\n",
    "\n",
    "        if len(posible_sizes) == 1:\n",
    "            matches[posible_sizes[0]] += 1\n",
    "        elif len(posible_sizes) > 1:\n",
    "            # If there is a tie and the sizes are adjacent, choose the larger size to increase the number of matches.\n",
    "            if posible_sizes[0] == 'XS' and posible_sizes[1] == 'S':\n",
    "                matches['S'] += 1\n",
    "            elif posible_sizes[0] == 'S' and posible_sizes[1] == 'M':\n",
    "                matches['M'] += 1\n",
    "            elif posible_sizes[0] == 'M' and posible_sizes[1] == 'L':\n",
    "                matches['L'] += 1\n",
    "            elif posible_sizes[0] == 'L' and posible_sizes[1] == 'XL':\n",
    "                matches['XL'] += 1\n",
    "            elif posible_sizes[0] == 'XL' and posible_sizes[1] == '2XL':\n",
    "                matches['2XL'] += 1\n",
    "            elif posible_sizes[0] == '2XL' and posible_sizes[1] == '3XL':\n",
    "                matches['3XL'] += 1\n",
    "                \n",
    "            ties += 1\n",
    "        else:\n",
    "            if len(posible_sizes) == 0:\n",
    "                else_count += 1\n",
    "                # print(f\"Unmatched: Chest={row['chestcircumference']}, Shoulder={row['biacromialbreadth']}\")\n",
    "# pepo        total += 1\n",
    "\n",
    "    print(f'Matches: {matches}')\n",
    "    print(f'Ties: {ties}')\n",
    "    print(f'Else: {else_count}')\n",
    "    print(f'Total: {total}')\n",
    "\n",
    "\n",
    "    return matches, ties\n",
    "                \n",
    "m, t = count_matches_and_ties(female, new_female_sizes)\n",
    "mm, tt = count_matches_and_ties(male, new_male_sizes)"
   ]
  },
  {
   "cell_type": "markdown",
   "metadata": {},
   "source": [
    "# Lecture anser"
   ]
  },
  {
   "cell_type": "code",
   "execution_count": 25,
   "metadata": {},
   "outputs": [
    {
     "name": "stdout",
     "output_type": "stream",
     "text": [
      "Female matches: \n",
      " {'XS': 23, 'S': 185, 'M': 247, 'L': 276, 'XL': 118, '2XL': 35, '3XL': 13} \n",
      "Ties:  0\n",
      "\n",
      "Male matches: \n",
      " {'XS': 63, 'S': 428, 'M': 578, 'L': 593, 'XL': 331, '2XL': 101, '3XL': 50} \n",
      "Ties:  0\n"
     ]
    }
   ],
   "source": [
    "def get_size(data, size_chart):\n",
    "    matches ={size: 0 for size in size_chart.keys()}\n",
    "    ties = 0\n",
    " \n",
    "    size_ordered = list(size_chart.keys())\n",
    " \n",
    "    for _, row in data.iterrows():\n",
    "        possible_sizes = []\n",
    " \n",
    "        for size, measurments in size_chart.items():\n",
    "            if( row['biacromialbreadth'] >= measurments['Shoulder'][0] and\n",
    "                row['biacromialbreadth'] <= measurments['Shoulder'][1] and\n",
    "                row['chestcircumference'] >= measurments['Chest'][0] and\n",
    "                row['chestcircumference'] <= measurments['Chest'][1]):\n",
    "                possible_sizes.append(size)\n",
    "       \n",
    "        if len(possible_sizes) == 1:\n",
    "            matches[possible_sizes[0]] += 1\n",
    "        elif len(possible_sizes) > 1:\n",
    "            # Check if sizes are adjacent\n",
    "            are_adjacent = all([abs(size_ordered.index(possible_sizes[i]) - size_ordered.index(possible_sizes[i+1])) == 1\n",
    "                                for i in range(len(possible_sizes)-1)])\n",
    "           \n",
    "            if are_adjacent:\n",
    "                # Assign the larger size\n",
    "                larger_size = max(possible_sizes, key=lambda s: size_ordered.index(s))\n",
    "                matches[larger_size] += 1\n",
    "            else:\n",
    "                ties += 1\n",
    "       \n",
    "    return matches, ties\n",
    "\n",
    "female_matches, female_ties = get_size(female, female_sizes)\n",
    "male_matches, male_ties = get_size(male, male_sizes)\n",
    "\n",
    "print(f'Female matches: \\n {female_matches} \\nTies:  {female_ties}\\n')\n",
    "print(f'Male matches: \\n {male_matches} \\nTies:  {male_ties}')"
   ]
  },
  {
   "cell_type": "markdown",
   "metadata": {},
   "source": []
  },
  {
   "cell_type": "code",
   "execution_count": 26,
   "metadata": {},
   "outputs": [],
   "source": []
  }
 ],
 "metadata": {
  "kernelspec": {
   "display_name": "Python 3",
   "language": "python",
   "name": "python3"
  },
  "language_info": {
   "codemirror_mode": {
    "name": "ipython",
    "version": 3
   },
   "file_extension": ".py",
   "mimetype": "text/x-python",
   "name": "python",
   "nbconvert_exporter": "python",
   "pygments_lexer": "ipython3",
   "version": "3.13.1"
  }
 },
 "nbformat": 4,
 "nbformat_minor": 2
}
