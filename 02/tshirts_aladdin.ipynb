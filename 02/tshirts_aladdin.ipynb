{
 "cells": [
  {
   "cell_type": "markdown",
   "metadata": {},
   "source": [
    "# Predicting T-shirt size using the ANSUR II dataset\n",
    "We will here try to predict a persons t-shirt size given the weight and height of the person. We will use the ANSUR II dataset which contains a lot of information about the physical attributes of a large number of people. \n",
    "\n",
    "We will first try to map the persons in the dataset to a t-shirt size. It is hard to find a concise size chart for t-shirt so we will create our own, initial chart, based on these assumptions:\n",
    "\n",
    "We will only look at two measurements, Shoulder Width and Chest Circumference.\n",
    "\n",
    "Our first problem is that Shoulder Width is not one of the measurements taken in the dataset. But we have Biacromial Breadth which is the distance between the two acromion processes. We will assume that this is the same as Shoulder Width.\n",
    "\n",
    "We will then have these initial rules:\n",
    "\n",
    "| Size | Percentile |\n",
    "|------|------------|\n",
    "| XS   | 0-5        |\n",
    "| S    | 5-25       |\n",
    "| M    | 25-50      |\n",
    "| L    | 50-75      |\n",
    "| XL   | 75-90      |\n",
    "| XXL  | 90-97      |\n",
    "| XXXL | 97-100     |"
   ]
  },
  {
   "cell_type": "markdown",
   "metadata": {},
   "source": [
    "## Inspect the data"
   ]
  },
  {
   "cell_type": "code",
   "execution_count": 3,
   "metadata": {},
   "outputs": [],
   "source": [
    "import pandas as pd"
   ]
  },
  {
   "cell_type": "code",
   "execution_count": 4,
   "metadata": {},
   "outputs": [],
   "source": [
    "female = pd.read_csv('./data/female.csv')\n",
    "male = pd.read_csv('./data/male.csv')"
   ]
  },
  {
   "cell_type": "code",
   "execution_count": 5,
   "metadata": {},
   "outputs": [
    {
     "name": "stdout",
     "output_type": "stream",
     "text": [
      "For women we have (rows, columns) (1986, 108)\n",
      "For men we have (rows, columns) (4082, 108)\n"
     ]
    }
   ],
   "source": [
    "print(f'For women we have (rows, columns) {female.shape}')\n",
    "print(f'For men we have (rows, columns) {male.shape}')\n"
   ]
  },
  {
   "cell_type": "markdown",
   "metadata": {},
   "source": [
    "## Checking the percentiles\n",
    "\n",
    "Let us determine the percentiles of the data."
   ]
  },
  {
   "cell_type": "code",
   "execution_count": 6,
   "metadata": {},
   "outputs": [
    {
     "name": "stdout",
     "output_type": "stream",
     "text": [
      "{(0, 5): np.int64(100), (5, 25): np.int64(396), (25, 50): np.int64(492), (50, 75): np.int64(499), (75, 90): np.int64(299), (90, 97): np.int64(140), (97, 100): np.int64(59)}\n",
      "{(0, 5): np.int64(93), (5, 25): np.int64(377), (25, 50): np.int64(477), (50, 75): np.int64(541), (75, 90): np.int64(297), (90, 97): np.int64(139), (97, 100): np.int64(61)}\n",
      "{(0, 5): np.int64(199), (5, 25): np.int64(810), (25, 50): np.int64(1025), (50, 75): np.int64(1012), (75, 90): np.int64(616), (90, 97): np.int64(295), (97, 100): np.int64(124)}\n",
      "{(0, 5): np.int64(191), (5, 25): np.int64(787), (25, 50): np.int64(989), (50, 75): np.int64(1079), (75, 90): np.int64(610), (90, 97): np.int64(303), (97, 100): np.int64(122)}\n"
     ]
    }
   ],
   "source": [
    "def compute_percentile_ranges(column):\n",
    "    # Define percentile ranges\n",
    "    ranges = [(0, 5), (5, 25), (25, 50), (50, 75), (75, 90), (90, 97), (97, 100)]\n",
    "\n",
    "    percentiles = {(low, high): (column.quantile(low/100), column.quantile(high/100)) for low, high in ranges}\n",
    "\n",
    "    counts = {}\n",
    "\n",
    "    for r, (low, high) in percentiles.items():\n",
    "        counts[r] = ((column >= low) & (column < high)).sum()\n",
    "    \n",
    "    return counts\n",
    "\n",
    "print(compute_percentile_ranges(female['chestcircumference']))\n",
    "print(compute_percentile_ranges(female['biacromialbreadth']))\n",
    "\n",
    "print(compute_percentile_ranges(male['chestcircumference']))\n",
    "print(compute_percentile_ranges(male['biacromialbreadth']))\n",
    "\n",
    "\n"
   ]
  },
  {
   "cell_type": "markdown",
   "metadata": {},
   "source": [
    "## Generate the t-shirt size chart"
   ]
  },
  {
   "cell_type": "code",
   "execution_count": 7,
   "metadata": {},
   "outputs": [
    {
     "name": "stdout",
     "output_type": "stream",
     "text": [
      "{'XS': {'Chest': 695, 'Shoulder': 283}, 'S': {'Chest': 824, 'Shoulder': 335}, 'M': {'Chest': 889, 'Shoulder': 353}, 'L': {'Chest': 940, 'Shoulder': 365}, 'XL': {'Chest': 999, 'Shoulder': 378}, '2XL': {'Chest': 1057, 'Shoulder': 389}, '3XL': {'Chest': 1117, 'Shoulder': 400}}\n",
      "{'XS': {'Chest': 774, 'Shoulder': 337}, 'S': {'Chest': 922, 'Shoulder': 384}, 'M': {'Chest': 996, 'Shoulder': 403}, 'L': {'Chest': 1056, 'Shoulder': 415}, 'XL': {'Chest': 1117, 'Shoulder': 428}, '2XL': {'Chest': 1172, 'Shoulder': 441}, '3XL': {'Chest': 1233, 'Shoulder': 452}}\n"
     ]
    }
   ],
   "source": [
    "def compute_size_percentile_mesurments(data, chest_column, shoulder_column):\n",
    "    sizes = ['XS', 'S', 'M', 'L', 'XL', '2XL', '3XL']\n",
    "    ranges = [0, 5, 25, 50, 75, 90, 97]\n",
    "\n",
    "    # Compute the values for each percentile for chest and shoulder\n",
    "    chest_percentiles = {p: data[chest_column].quantile(p/100) for p in ranges}\n",
    "    shoulder_percentiles = {p: data[shoulder_column].quantile(p/100) for p in ranges}\n",
    "\n",
    "    # Map the t-shirt sizes to the corresponding chest and shoulder measurments\n",
    "    size_mappings = {}\n",
    "    for i, size in enumerate(sizes):\n",
    "        size_mappings[size] = {\n",
    "            'Chest': int(chest_percentiles[ranges[i]]),\n",
    "            'Shoulder': int(shoulder_percentiles[ranges[i]])\n",
    "        }\n",
    "    \n",
    "    return size_mappings\n",
    "\n",
    "print(compute_size_percentile_mesurments(female, 'chestcircumference', 'biacromialbreadth'))\n",
    "print(compute_size_percentile_mesurments(male, 'chestcircumference', 'biacromialbreadth'))\n"
   ]
  },
  {
   "cell_type": "code",
   "execution_count": 8,
   "metadata": {},
   "outputs": [],
   "source": [
    "# {'XS': {'Chest': 695, 'Shoulder': 283}, 'S': {'Chest': 824, 'Shoulder': 335}, 'M': {'Chest': 889, 'Shoulder': 353}, 'L': {'Chest': 940, 'Shoulder': 365}, 'XL': {'Chest': 999, 'Shoulder': 378}, '2XL': {'Chest': 1057, 'Shoulder': 389}, '3XL': {'Chest': 1117, 'Shoulder': 400}}\n",
    "\n",
    "female_sizes = {\n",
    "    'XS': {'Chest': 695, 'Shoulder': 283}, \n",
    "    'S': {'Chest': 824, 'Shoulder': 335}, \n",
    "    'M': {'Chest': 889, 'Shoulder': 353}, \n",
    "    'L': {'Chest': 940, 'Shoulder': 365}, \n",
    "    'XL': {'Chest': 999, 'Shoulder': 378}, \n",
    "    '2XL': {'Chest': 1057, 'Shoulder': 389}, \n",
    "    '3XL': {'Chest': 1117, 'Shoulder': 400}\n",
    "    }\n",
    "\n",
    "male_sizes = {\n",
    "    'XS': {'Chest': 774, 'Shoulder': 337}, \n",
    "    'S': {'Chest': 922, 'Shoulder': 384}, \n",
    "    'M': {'Chest': 996, 'Shoulder': 403}, \n",
    "    'L': {'Chest': 1056, 'Shoulder': 415}, \n",
    "    'XL': {'Chest': 1117, 'Shoulder': 428}, \n",
    "    '2XL': {'Chest': 1172, 'Shoulder': 441}, \n",
    "    '3XL': {'Chest': 1233, 'Shoulder': 452}\n",
    "    }"
   ]
  },
  {
   "cell_type": "markdown",
   "metadata": {},
   "source": [
    "# TODAYS LAB\n",
    "\n",
    "Earlier in the project, we mentioned that there might be conflicts when comparing sizes based on different measurements (e.g., chest circumference and shoulder breadth). For instance, a person might have size S for chest but size M for shoulders. Your task is to get a clearer picture of how many individuals have matching sizes for both measurements and how many have different sizes (i.e., they fall into different sizes for shoulder breadth and chest circumference).\n",
    " \n",
    "Use the size chart: Use a size chart that specifies the limits for shoulder breadth and chest circumference for each size.\n",
    " \n",
    "Create a function: Write a function that iterates through each person's measurements and compares them with the size chart.\n",
    " \n",
    "Count matches and conflicts: The function should count the number of individuals who have exactly one matching size and the number of individuals who have multiple possible sizes (conflicts).\n",
    " \n",
    "Test your function with both female and male datasets, and use appropriate size charts for each gender."
   ]
  },
  {
   "cell_type": "code",
   "execution_count": 15,
   "metadata": {},
   "outputs": [
    {
     "name": "stdout",
     "output_type": "stream",
     "text": [
      "{'XS': 0, 'S': 35, 'M': 115, 'L': 142, 'XL': 77, '2XL': 34, '3XL': 10}\n",
      "390\n",
      "{'XS': 1, 'S': 70, 'M': 228, 'L': 286, 'XL': 164, '2XL': 69, '3XL': 38}\n",
      "625\n"
     ]
    }
   ],
   "source": [
    "def get_size(data, size_chart):\n",
    "    matches = {size: 0 for size in size_chart.keys()}   \n",
    "    ties = 0\n",
    "\n",
    "    for _, row in data.iterrows():\n",
    "        possible_sizes = []\n",
    "\n",
    "        for size, measurments in size_chart.items():\n",
    "            if row['chestcircumference'] <= measurments['Chest'] and row['biacromialbreadth'] >= measurments['Shoulder']:\n",
    "                possible_sizes.append(size)\n",
    "\n",
    "        if len(possible_sizes) == 1:\n",
    "            matches[possible_sizes[0]] += 1\n",
    "        elif len(possible_sizes) > 1:\n",
    "            ties += 1\n",
    "\n",
    "    return matches, ties\n",
    "\n",
    "female_matches, female_ties = get_size(female, female_sizes)\n",
    "male_matches, male_ties = get_size(male, male_sizes)\n",
    "\n",
    "print(female_matches)\n",
    "print(female_ties)\n",
    "print(male_matches)\n",
    "print(male_ties)"
   ]
  }
 ],
 "metadata": {
  "kernelspec": {
   "display_name": "Python 3",
   "language": "python",
   "name": "python3"
  },
  "language_info": {
   "codemirror_mode": {
    "name": "ipython",
    "version": 3
   },
   "file_extension": ".py",
   "mimetype": "text/x-python",
   "name": "python",
   "nbconvert_exporter": "python",
   "pygments_lexer": "ipython3",
   "version": "3.13.1"
  }
 },
 "nbformat": 4,
 "nbformat_minor": 2
}
