{
 "cells": [
  {
   "cell_type": "markdown",
   "metadata": {},
   "source": [
    "# Predicting T-shirt size using the ANSUR II dataset\n",
    "We will here try to predict a persons t-shirt size given the weight and height of the person. We will use the ANSUR II dataset which contains a lot of information about the physical attributes of a large number of people. \n",
    "\n",
    "We will first try to map the persons in the dataset to a t-shirt size. It is hard to find a concise size chart for t-shirt so we will create our own, initial chart, based on these assumptions:\n",
    "\n",
    "We will only look at two measurements, Shoulder Width and Chest Circumference.\n",
    "\n",
    "Our first problem is that Shoulder Width is not one of the measurements taken in the dataset. But we have Biacromial Breadth which is the distance between the two acromion processes. We will assume that this is the same as Shoulder Width.\n",
    "\n",
    "We will then have these initial rules:\n",
    "\n",
    "| Size | Percentile |\n",
    "|------|------------|\n",
    "| XS   | 0-5        |\n",
    "| S    | 5-25       |\n",
    "| M    | 25-50      |\n",
    "| L    | 50-75      |\n",
    "| XL   | 75-90      |\n",
    "| XXL  | 90-97      |\n",
    "| XXXL | 97-100     |"
   ]
  },
  {
   "cell_type": "markdown",
   "metadata": {},
   "source": [
    "## Inspect the data"
   ]
  },
  {
   "cell_type": "code",
   "execution_count": 1,
   "metadata": {},
   "outputs": [],
   "source": [
    "import pandas as pd"
   ]
  },
  {
   "cell_type": "code",
   "execution_count": 2,
   "metadata": {},
   "outputs": [],
   "source": [
    "female = pd.read_csv('../data/female.csv')\n",
    "male = pd.read_csv('../data/male.csv')"
   ]
  },
  {
   "cell_type": "code",
   "execution_count": 3,
   "metadata": {},
   "outputs": [
    {
     "name": "stdout",
     "output_type": "stream",
     "text": [
      "For women we have (rows, columns) (1986, 108)\n",
      "For men we have (rows, columns) (4082, 108)\n"
     ]
    }
   ],
   "source": [
    "print(f'For women we have (rows, columns) {female.shape}')\n",
    "print(f'For men we have (rows, columns) {male.shape}')"
   ]
  },
  {
   "cell_type": "markdown",
   "metadata": {},
   "source": [
    "## Checking the percentiles\n",
    "\n",
    "Let us determine the percentiles of the data."
   ]
  },
  {
   "cell_type": "code",
   "execution_count": 4,
   "metadata": {},
   "outputs": [],
   "source": [
    "def compute_percentile_ranges(column):\n",
    "    # Define percentile ranges\n",
    "    ranges = [(0, 5), (5, 25), (25, 50), (50, 75), (75, 90), (90, 97), (97, 100)]\n",
    "\n",
    "    percentiles = {(low, high): (column.quantile(low/100), column.quantile(high/100)) for low, high in ranges}\n",
    "\n",
    "    counts = {}\n",
    "\n",
    "    for r, (low, high) in percentiles.items():\n",
    "        counts[r] = int(((column >= low) & (column < high)).sum())\n",
    "    \n",
    "    return counts\n",
    "\n",
    "# print(compute_percentile_ranges(female['chestcircumference']))\n",
    "# print(compute_percentile_ranges(female['biacromialbreadth']))\n",
    "\n",
    "# print(compute_percentile_ranges(male['chestcircumference']))\n",
    "# print(compute_percentile_ranges(male['biacromialbreadth']))"
   ]
  },
  {
   "cell_type": "code",
   "execution_count": 5,
   "metadata": {},
   "outputs": [
    {
     "data": {
      "text/html": [
       "<div>\n",
       "<style scoped>\n",
       "    .dataframe tbody tr th:only-of-type {\n",
       "        vertical-align: middle;\n",
       "    }\n",
       "\n",
       "    .dataframe tbody tr th {\n",
       "        vertical-align: top;\n",
       "    }\n",
       "\n",
       "    .dataframe thead th {\n",
       "        text-align: right;\n",
       "    }\n",
       "</style>\n",
       "<table border=\"1\" class=\"dataframe\">\n",
       "  <thead>\n",
       "    <tr style=\"text-align: right;\">\n",
       "      <th></th>\n",
       "      <th>Chest Range</th>\n",
       "      <th>Chest Count</th>\n",
       "      <th>Shoulder Range</th>\n",
       "      <th>Shoulder Count</th>\n",
       "    </tr>\n",
       "  </thead>\n",
       "  <tbody>\n",
       "    <tr>\n",
       "      <th>0</th>\n",
       "      <td>(0, 5)</td>\n",
       "      <td>100</td>\n",
       "      <td>(0, 5)</td>\n",
       "      <td>93</td>\n",
       "    </tr>\n",
       "    <tr>\n",
       "      <th>1</th>\n",
       "      <td>(5, 25)</td>\n",
       "      <td>396</td>\n",
       "      <td>(5, 25)</td>\n",
       "      <td>377</td>\n",
       "    </tr>\n",
       "    <tr>\n",
       "      <th>2</th>\n",
       "      <td>(25, 50)</td>\n",
       "      <td>492</td>\n",
       "      <td>(25, 50)</td>\n",
       "      <td>477</td>\n",
       "    </tr>\n",
       "    <tr>\n",
       "      <th>3</th>\n",
       "      <td>(50, 75)</td>\n",
       "      <td>499</td>\n",
       "      <td>(50, 75)</td>\n",
       "      <td>541</td>\n",
       "    </tr>\n",
       "    <tr>\n",
       "      <th>4</th>\n",
       "      <td>(75, 90)</td>\n",
       "      <td>299</td>\n",
       "      <td>(75, 90)</td>\n",
       "      <td>297</td>\n",
       "    </tr>\n",
       "    <tr>\n",
       "      <th>5</th>\n",
       "      <td>(90, 97)</td>\n",
       "      <td>140</td>\n",
       "      <td>(90, 97)</td>\n",
       "      <td>139</td>\n",
       "    </tr>\n",
       "    <tr>\n",
       "      <th>6</th>\n",
       "      <td>(97, 100)</td>\n",
       "      <td>59</td>\n",
       "      <td>(97, 100)</td>\n",
       "      <td>61</td>\n",
       "    </tr>\n",
       "  </tbody>\n",
       "</table>\n",
       "</div>"
      ],
      "text/plain": [
       "  Chest Range  Chest Count Shoulder Range  Shoulder Count\n",
       "0      (0, 5)          100         (0, 5)              93\n",
       "1     (5, 25)          396        (5, 25)             377\n",
       "2    (25, 50)          492       (25, 50)             477\n",
       "3    (50, 75)          499       (50, 75)             541\n",
       "4    (75, 90)          299       (75, 90)             297\n",
       "5    (90, 97)          140       (90, 97)             139\n",
       "6   (97, 100)           59      (97, 100)              61"
      ]
     },
     "execution_count": 5,
     "metadata": {},
     "output_type": "execute_result"
    }
   ],
   "source": [
    "female_chest_range = pd.DataFrame(list(compute_percentile_ranges(female['chestcircumference']).items()), columns=['Chest Range', 'Chest Count'])\n",
    "female_shoulder_range = pd.DataFrame(list(compute_percentile_ranges(female['biacromialbreadth']).items()), columns=['Shoulder Range', 'Shoulder Count'])\n",
    "female_ranges = pd.concat([female_chest_range, female_shoulder_range], axis=1)\n",
    "\n",
    "female_ranges"
   ]
  },
  {
   "cell_type": "code",
   "execution_count": 6,
   "metadata": {},
   "outputs": [
    {
     "data": {
      "text/html": [
       "<div>\n",
       "<style scoped>\n",
       "    .dataframe tbody tr th:only-of-type {\n",
       "        vertical-align: middle;\n",
       "    }\n",
       "\n",
       "    .dataframe tbody tr th {\n",
       "        vertical-align: top;\n",
       "    }\n",
       "\n",
       "    .dataframe thead th {\n",
       "        text-align: right;\n",
       "    }\n",
       "</style>\n",
       "<table border=\"1\" class=\"dataframe\">\n",
       "  <thead>\n",
       "    <tr style=\"text-align: right;\">\n",
       "      <th></th>\n",
       "      <th>Chest Range</th>\n",
       "      <th>Chest Count</th>\n",
       "      <th>Shoulder Range</th>\n",
       "      <th>Shoulder Count</th>\n",
       "    </tr>\n",
       "  </thead>\n",
       "  <tbody>\n",
       "    <tr>\n",
       "      <th>0</th>\n",
       "      <td>(0, 5)</td>\n",
       "      <td>199</td>\n",
       "      <td>(0, 5)</td>\n",
       "      <td>191</td>\n",
       "    </tr>\n",
       "    <tr>\n",
       "      <th>1</th>\n",
       "      <td>(5, 25)</td>\n",
       "      <td>810</td>\n",
       "      <td>(5, 25)</td>\n",
       "      <td>787</td>\n",
       "    </tr>\n",
       "    <tr>\n",
       "      <th>2</th>\n",
       "      <td>(25, 50)</td>\n",
       "      <td>1025</td>\n",
       "      <td>(25, 50)</td>\n",
       "      <td>989</td>\n",
       "    </tr>\n",
       "    <tr>\n",
       "      <th>3</th>\n",
       "      <td>(50, 75)</td>\n",
       "      <td>1012</td>\n",
       "      <td>(50, 75)</td>\n",
       "      <td>1079</td>\n",
       "    </tr>\n",
       "    <tr>\n",
       "      <th>4</th>\n",
       "      <td>(75, 90)</td>\n",
       "      <td>616</td>\n",
       "      <td>(75, 90)</td>\n",
       "      <td>610</td>\n",
       "    </tr>\n",
       "    <tr>\n",
       "      <th>5</th>\n",
       "      <td>(90, 97)</td>\n",
       "      <td>295</td>\n",
       "      <td>(90, 97)</td>\n",
       "      <td>303</td>\n",
       "    </tr>\n",
       "    <tr>\n",
       "      <th>6</th>\n",
       "      <td>(97, 100)</td>\n",
       "      <td>124</td>\n",
       "      <td>(97, 100)</td>\n",
       "      <td>122</td>\n",
       "    </tr>\n",
       "  </tbody>\n",
       "</table>\n",
       "</div>"
      ],
      "text/plain": [
       "  Chest Range  Chest Count Shoulder Range  Shoulder Count\n",
       "0      (0, 5)          199         (0, 5)             191\n",
       "1     (5, 25)          810        (5, 25)             787\n",
       "2    (25, 50)         1025       (25, 50)             989\n",
       "3    (50, 75)         1012       (50, 75)            1079\n",
       "4    (75, 90)          616       (75, 90)             610\n",
       "5    (90, 97)          295       (90, 97)             303\n",
       "6   (97, 100)          124      (97, 100)             122"
      ]
     },
     "execution_count": 6,
     "metadata": {},
     "output_type": "execute_result"
    }
   ],
   "source": [
    "male_chest_range = pd.DataFrame(list(compute_percentile_ranges(male['chestcircumference']).items()), columns=['Chest Range', 'Chest Count'])\n",
    "male_shoulder_range = pd.DataFrame(list(compute_percentile_ranges(male['biacromialbreadth']).items()), columns=['Shoulder Range', 'Shoulder Count'])\n",
    "male_ranges = pd.concat([male_chest_range, male_shoulder_range], axis=1)\n",
    "\n",
    "male_ranges"
   ]
  },
  {
   "cell_type": "markdown",
   "metadata": {},
   "source": [
    "## Generate the t-shirt size chart"
   ]
  },
  {
   "cell_type": "code",
   "execution_count": 7,
   "metadata": {},
   "outputs": [],
   "source": [
    "def compute_size_percentile_mesurments(data, chest_column, shoulder_column):\n",
    "    sizes = ['XS', 'S', 'M', 'L', 'XL', '2XL', '3XL']\n",
    "    ranges = [0, 5, 25, 50, 75, 90, 97]\n",
    "\n",
    "    # Compute the values for each percentile for chest and shoulder\n",
    "    chest_percentiles = {p: data[chest_column].quantile(p/100) for p in ranges}\n",
    "    shoulder_percentiles = {p: data[shoulder_column].quantile(p/100) for p in ranges}\n",
    "\n",
    "    # Map the t-shirt sizes to the corresponding chest and shoulder measurments\n",
    "    size_mappings = {}\n",
    "    for i, size in enumerate(sizes):\n",
    "        size_mappings[size] = {\n",
    "            'Chest': int(chest_percentiles[ranges[i]]),\n",
    "            'Shoulder': int(shoulder_percentiles[ranges[i]])\n",
    "        }\n",
    "    \n",
    "    return size_mappings"
   ]
  },
  {
   "cell_type": "code",
   "execution_count": 8,
   "metadata": {},
   "outputs": [
    {
     "name": "stdout",
     "output_type": "stream",
     "text": [
      "{'XS': {'Chest': 695, 'Shoulder': 283}, 'S': {'Chest': 824, 'Shoulder': 335}, 'M': {'Chest': 889, 'Shoulder': 353}, 'L': {'Chest': 940, 'Shoulder': 365}, 'XL': {'Chest': 999, 'Shoulder': 378}, '2XL': {'Chest': 1057, 'Shoulder': 389}, '3XL': {'Chest': 1117, 'Shoulder': 400}}\n",
      "{'XS': {'Chest': 774, 'Shoulder': 337}, 'S': {'Chest': 922, 'Shoulder': 384}, 'M': {'Chest': 996, 'Shoulder': 403}, 'L': {'Chest': 1056, 'Shoulder': 415}, 'XL': {'Chest': 1117, 'Shoulder': 428}, '2XL': {'Chest': 1172, 'Shoulder': 441}, '3XL': {'Chest': 1233, 'Shoulder': 452}}\n"
     ]
    }
   ],
   "source": [
    "print(compute_size_percentile_mesurments(female, 'chestcircumference', 'biacromialbreadth'))\n",
    "print(compute_size_percentile_mesurments(male, 'chestcircumference', 'biacromialbreadth'))\n",
    "\n"
   ]
  },
  {
   "cell_type": "code",
   "execution_count": 9,
   "metadata": {},
   "outputs": [],
   "source": [
    "# {'XS': {'Chest': 695, 'Shoulder': 283}, 'S': {'Chest': 824, 'Shoulder': 335}, 'M': {'Chest': 889, 'Shoulder': 353}, 'L': {'Chest': 940, 'Shoulder': 365}, 'XL': {'Chest': 999, 'Shoulder': 378}, '2XL': {'Chest': 1057, 'Shoulder': 389}, '3XL': {'Chest': 1117, 'Shoulder': 400}}\n",
    "\n",
    "female_sizes = {\n",
    "    'XS': {'Chest': 695, 'Shoulder': 283}, \n",
    "    'S': {'Chest': 824, 'Shoulder': 335}, \n",
    "    'M': {'Chest': 889, 'Shoulder': 353}, \n",
    "    'L': {'Chest': 940, 'Shoulder': 365}, \n",
    "    'XL': {'Chest': 999, 'Shoulder': 378}, \n",
    "    '2XL': {'Chest': 1057, 'Shoulder': 389}, \n",
    "    '3XL': {'Chest': 1117, 'Shoulder': 400}\n",
    "    }\n",
    "\n",
    "male_sizes = {\n",
    "    'XS': {'Chest': 774, 'Shoulder': 337}, \n",
    "    'S': {'Chest': 922, 'Shoulder': 384}, \n",
    "    'M': {'Chest': 996, 'Shoulder': 403}, \n",
    "    'L': {'Chest': 1056, 'Shoulder': 415}, \n",
    "    'XL': {'Chest': 1117, 'Shoulder': 428}, \n",
    "    '2XL': {'Chest': 1172, 'Shoulder': 441}, \n",
    "    '3XL': {'Chest': 1233, 'Shoulder': 452}\n",
    "    }"
   ]
  },
  {
   "cell_type": "markdown",
   "metadata": {},
   "source": [
    "# TODAYS LAB\n",
    "\n",
    "Earlier in the project, we mentioned that there might be conflicts when comparing sizes based on different measurements (e.g., chest circumference and shoulder breadth). For instance, a person might have size S for chest but size M for shoulders. Your task is to get a clearer picture of how many individuals have matching sizes for both measurements and how many have different sizes (i.e., they fall into different sizes for shoulder breadth and chest circumference).\n",
    " \n",
    "Use the size chart: Use a size chart that specifies the limits for shoulder breadth and chest circumference for each size.\n",
    " \n",
    "Create a function: Write a function that iterates through each person's measurements and compares them with the size chart.\n",
    " \n",
    "Count matches and conflicts: The function should count the number of individuals who have exactly one matching size and the number of individuals who have multiple possible sizes (conflicts).\n",
    " \n",
    "Test your function with both female and male datasets, and use appropriate size charts for each gender."
   ]
  },
  {
   "cell_type": "code",
   "execution_count": 10,
   "metadata": {},
   "outputs": [],
   "source": [
    "def get_size(data, size_chart):\n",
    "    matches = {size: 0 for size in size_chart.keys()}   \n",
    "    ties = 0\n",
    "\n",
    "    for _, row in data.iterrows():\n",
    "        possible_sizes = []\n",
    "\n",
    "        for size, measurments in size_chart.items():\n",
    "            if row['chestcircumference'] <= measurments['Chest'] and row['biacromialbreadth'] >= measurments['Shoulder']:\n",
    "                possible_sizes.append(size)\n",
    "\n",
    "        if len(possible_sizes) == 1:\n",
    "            matches[possible_sizes[0]] += 1\n",
    "        elif len(possible_sizes) > 1:\n",
    "            ties += 1\n",
    "\n",
    "    return matches, ties\n",
    "\n",
    "female_matches, female_ties = get_size(female, female_sizes)\n",
    "male_matches, male_ties = get_size(male, male_sizes)\n",
    "\n",
    "female_matches = pd.DataFrame(list(female_matches.items()), columns=['Size', 'Count'])\n",
    "male_matches = pd.DataFrame(list(male_matches.items()), columns=['Size', 'Count'])"
   ]
  },
  {
   "cell_type": "code",
   "execution_count": 11,
   "metadata": {},
   "outputs": [
    {
     "name": "stdout",
     "output_type": "stream",
     "text": [
      "Female ties 390\n"
     ]
    },
    {
     "data": {
      "text/html": [
       "<div>\n",
       "<style scoped>\n",
       "    .dataframe tbody tr th:only-of-type {\n",
       "        vertical-align: middle;\n",
       "    }\n",
       "\n",
       "    .dataframe tbody tr th {\n",
       "        vertical-align: top;\n",
       "    }\n",
       "\n",
       "    .dataframe thead th {\n",
       "        text-align: right;\n",
       "    }\n",
       "</style>\n",
       "<table border=\"1\" class=\"dataframe\">\n",
       "  <thead>\n",
       "    <tr style=\"text-align: right;\">\n",
       "      <th></th>\n",
       "      <th>Size</th>\n",
       "      <th>Count</th>\n",
       "    </tr>\n",
       "  </thead>\n",
       "  <tbody>\n",
       "    <tr>\n",
       "      <th>0</th>\n",
       "      <td>XS</td>\n",
       "      <td>0</td>\n",
       "    </tr>\n",
       "    <tr>\n",
       "      <th>1</th>\n",
       "      <td>S</td>\n",
       "      <td>35</td>\n",
       "    </tr>\n",
       "    <tr>\n",
       "      <th>2</th>\n",
       "      <td>M</td>\n",
       "      <td>115</td>\n",
       "    </tr>\n",
       "    <tr>\n",
       "      <th>3</th>\n",
       "      <td>L</td>\n",
       "      <td>142</td>\n",
       "    </tr>\n",
       "    <tr>\n",
       "      <th>4</th>\n",
       "      <td>XL</td>\n",
       "      <td>77</td>\n",
       "    </tr>\n",
       "    <tr>\n",
       "      <th>5</th>\n",
       "      <td>2XL</td>\n",
       "      <td>34</td>\n",
       "    </tr>\n",
       "    <tr>\n",
       "      <th>6</th>\n",
       "      <td>3XL</td>\n",
       "      <td>10</td>\n",
       "    </tr>\n",
       "  </tbody>\n",
       "</table>\n",
       "</div>"
      ],
      "text/plain": [
       "  Size  Count\n",
       "0   XS      0\n",
       "1    S     35\n",
       "2    M    115\n",
       "3    L    142\n",
       "4   XL     77\n",
       "5  2XL     34\n",
       "6  3XL     10"
      ]
     },
     "execution_count": 11,
     "metadata": {},
     "output_type": "execute_result"
    }
   ],
   "source": [
    "print(f'Female ties {female_ties}')\n",
    "female_matches\n"
   ]
  },
  {
   "cell_type": "code",
   "execution_count": 12,
   "metadata": {},
   "outputs": [
    {
     "name": "stdout",
     "output_type": "stream",
     "text": [
      "Male ties  625\n"
     ]
    },
    {
     "data": {
      "text/html": [
       "<div>\n",
       "<style scoped>\n",
       "    .dataframe tbody tr th:only-of-type {\n",
       "        vertical-align: middle;\n",
       "    }\n",
       "\n",
       "    .dataframe tbody tr th {\n",
       "        vertical-align: top;\n",
       "    }\n",
       "\n",
       "    .dataframe thead th {\n",
       "        text-align: right;\n",
       "    }\n",
       "</style>\n",
       "<table border=\"1\" class=\"dataframe\">\n",
       "  <thead>\n",
       "    <tr style=\"text-align: right;\">\n",
       "      <th></th>\n",
       "      <th>Size</th>\n",
       "      <th>Count</th>\n",
       "    </tr>\n",
       "  </thead>\n",
       "  <tbody>\n",
       "    <tr>\n",
       "      <th>0</th>\n",
       "      <td>XS</td>\n",
       "      <td>1</td>\n",
       "    </tr>\n",
       "    <tr>\n",
       "      <th>1</th>\n",
       "      <td>S</td>\n",
       "      <td>70</td>\n",
       "    </tr>\n",
       "    <tr>\n",
       "      <th>2</th>\n",
       "      <td>M</td>\n",
       "      <td>228</td>\n",
       "    </tr>\n",
       "    <tr>\n",
       "      <th>3</th>\n",
       "      <td>L</td>\n",
       "      <td>286</td>\n",
       "    </tr>\n",
       "    <tr>\n",
       "      <th>4</th>\n",
       "      <td>XL</td>\n",
       "      <td>164</td>\n",
       "    </tr>\n",
       "    <tr>\n",
       "      <th>5</th>\n",
       "      <td>2XL</td>\n",
       "      <td>69</td>\n",
       "    </tr>\n",
       "    <tr>\n",
       "      <th>6</th>\n",
       "      <td>3XL</td>\n",
       "      <td>38</td>\n",
       "    </tr>\n",
       "  </tbody>\n",
       "</table>\n",
       "</div>"
      ],
      "text/plain": [
       "  Size  Count\n",
       "0   XS      1\n",
       "1    S     70\n",
       "2    M    228\n",
       "3    L    286\n",
       "4   XL    164\n",
       "5  2XL     69\n",
       "6  3XL     38"
      ]
     },
     "execution_count": 12,
     "metadata": {},
     "output_type": "execute_result"
    }
   ],
   "source": [
    "print(f'Male ties  {male_ties}') # how to make this into a pandas dataframe? \n",
    "male_matches"
   ]
  }
 ],
 "metadata": {
  "kernelspec": {
   "display_name": "Python 3",
   "language": "python",
   "name": "python3"
  },
  "language_info": {
   "codemirror_mode": {
    "name": "ipython",
    "version": 3
   },
   "file_extension": ".py",
   "mimetype": "text/x-python",
   "name": "python",
   "nbconvert_exporter": "python",
   "pygments_lexer": "ipython3",
   "version": "3.13.1"
  }
 },
 "nbformat": 4,
 "nbformat_minor": 2
}
