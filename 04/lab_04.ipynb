{
 "cells": [
  {
   "cell_type": "markdown",
   "metadata": {},
   "source": [
    "# Today's Lab\n",
    "\n",
    "### Links to Watch/Complete:\n",
    "- [Video 1](https://www.youtube.com/watch?v=4HKqjENq9OU)\n",
    "- [Video 2](https://www.youtube.com/watch?v=0Lt9w-BxKFQ)\n",
    "\n",
    "\n",
    "### Instructions:\n",
    "Just like I told you guys, there are two links for you to watch/complete.  \n",
    "If you have any questions, feel free to write to me directly.  \n",
    "\n",
    "Also, go through all the code that we have created so far.  \n"
   ]
  }
 ],
 "metadata": {
  "language_info": {
   "name": "python"
  }
 },
 "nbformat": 4,
 "nbformat_minor": 2
}
